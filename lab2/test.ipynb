{
 "cells": [
  {
   "cell_type": "code",
   "execution_count": 61,
   "id": "3b9fdcec-a07f-453f-bbdd-426de9a6e990",
   "metadata": {},
   "outputs": [
    {
     "name": "stdout",
     "output_type": "stream",
     "text": [
      "['for', 'all', 'shawn', 'di', '##ffi', '##den', '##ce', 'and', 'quiet', '##ness', ',', 'he', 'sometimes', 'did', 'off', '-', 'the', '-', 'wall', 'things', '.', 'the', 'price', 'per', 'share', 'is', 'dropping', 'by', '75', 'percent', 'to', '3', '.', '30', 'euros', '.', 'let', \"'\", 's', 'don', \"'\", 't', 'say', '\"', 'that', 'word', '\"', 'any', 'more', '.']\n",
      "['[UNK]', '[UNK]', '[UNK]', '[UNK]', '[UNK]', '[UNK]', '[UNK]', '信', '，', '[UNK]', '[UNK]', '[UNK]', '[UNK]', '，', '[UNK]', '[UNK]', '有', '[UNK]', '也', '会', '[UNK]', '一', '[UNK]', '出', '[UNK]', '的', '事', '。', '[UNK]', '[UNK]', '[UNK]', '[UNK]', '下', '[UNK]', '75', '%', '，', '[UNK]', '3', '.', '30', '[UNK]', '元', '。', '\"', '我', '的', '[UNK]', '[UNK]', '[UNK]', '[UNK]', '\"', '[UNK]', '：', '1880', '##0', '##30', '##86', '##5']\n",
      "['[UNK]', 'all', '[UNK]', 'di', '##ff', '##ide', '##nce', 'and', 'q', '##ui', '##et', '##ness', ',', 'he', 'some', '##times', 'di', '##d', 'off', '-', 'the', '-', 'wall', 't', '##hing', '##s', '.', '[UNK]', 'price', 'pe', '##r', 'share', 'is', 'dr', '##op', '##ping', 'by', '75', 'pe', '##rc', '##ent', 'to', '3', '.', '30', '[UNK]', '.', '[UNK]', \"'\", 's', 'don', \"'\", 't', 'say', '\"', 'that', 'word', '\"', 'an', '##y', 'more', '.']\n",
      "['尽', '管', '肖', '恩', '缺', '乏', '自', '信', '，', '沉', '默', '寡', '言', '，', '但', '他', '有', '时', '也', '会', '做', '一', '些', '出', '格', '的', '事', '。', '每', '股', '价', '格', '下', '跌', '75', '%', '，', '至', '3', '.', '30', '欧', '元', '。', '\"', '我', '的', '电', '话', '号', '码', '\"', '是', '：', '1880', '##03', '##08', '##65']\n"
     ]
    }
   ],
   "source": [
    "# -*- coding: utf-16 -*-\n",
    "\n",
    "with open('test_text.txt', 'r') as file:\n",
    "    # 读取文件内容\n",
    "    data = file.read()\n",
    "    \n",
    "with open('test_text_chinese.txt', 'r',encoding=\"utf-8\") as file:\n",
    "    # 读取文件内容\n",
    "    data_chinese_utf_8 = file.read()\n",
    "\n",
    "#print(data_chinese_utf_8.type,data_chinese_gbk.type())\n",
    "def test(tokenizer):\n",
    "    print(tokenizer.tokenize(data))\n",
    "\n",
    "    a=[s.encode('utf-8') for s in tokenizer.tokenize(data_chinese_utf_8)]\n",
    "    print([b.decode('utf-8') for b in a])\n",
    "\n",
    "import torch\n",
    "from transformers import AutoTokenizer\n",
    "\n",
    "tokenizer = AutoTokenizer.from_pretrained(\"./bert-base-uncased\")\n",
    "test(tokenizer)\n",
    "\n",
    "\n",
    "tokenizer = AutoTokenizer.from_pretrained('./bert-base-chinese')\n",
    "test(tokenizer)"
   ]
  },
  {
   "cell_type": "code",
   "execution_count": 62,
   "id": "cbab92d5-b9fa-4234-bf52-4ad0739166d0",
   "metadata": {},
   "outputs": [
    {
     "name": "stdout",
     "output_type": "stream",
     "text": [
      "['for</w>', 'all</w>', 'shawn</w>', 'dif', 'fi', 'dence</w>', 'and</w>', 'quietness</w>', ',</w>', 'he</w>', 'sometimes</w>', 'did</w>', 'off</w>', '-</w>', 'the</w>', '-</w>', 'wall</w>', 'things</w>', '.</w>', 'the</w>', 'price</w>', 'per</w>', 'share</w>', 'is</w>', 'dropping</w>', 'by</w>', '75</w>', 'percent</w>', 'to</w>', '3</w>', '.</w>', '30</w>', 'euros</w>', '.</w>', 'let</w>', \"'</w>\", 's</w>', 'don</w>', \"'</w>\", 't</w>', 'say</w>', '\"</w>', 'that</w>', 'word</w>', '\"</w>', 'any</w>', 'more</w>', '.</w>']\n",
      "['<unk>', '<unk>', '<unk>', '<unk>', '<unk>', '<unk>', '<unk>', '<unk>', '<unk>', '<unk>', '<unk>', '<unk>', '<unk>', '<unk>', '<unk>', '<unk>', '<unk>', '<unk>', '<unk>', '<unk>', '<unk>', '<unk>', '<unk>', '<unk>', '<unk>', '<unk>', '<unk>', '<unk>', '<unk>', '<unk>', '<unk>', '<unk>', '<unk>', '<unk>', '75</w>', '%</w>', '<unk>', '<unk>', '3</w>', '.</w>', '30</w>', '<unk>', '<unk>', '<unk>', '\"</w>', '<unk>', '<unk>', '<unk>', '<unk>', '<unk>', '<unk>', '\"</w>', '<unk>', '<unk>', '18', '8', '00', '30', '8', '65</w>']\n"
     ]
    }
   ],
   "source": [
    "tokenizer = AutoTokenizer.from_pretrained('./gpt1')\n",
    "test(tokenizer)"
   ]
  },
  {
   "cell_type": "code",
   "execution_count": 63,
   "id": "e5b5fb5c",
   "metadata": {},
   "outputs": [
    {
     "name": "stdout",
     "output_type": "stream",
     "text": [
      "['For', 'Ġall', 'ĠShawn', 'Ġdiff', 'idence', 'Ġand', 'Ġquiet', 'ness', ',', 'Ġhe', 'Ġsometimes', 'Ġdid', 'Ġoff', '-', 'the', '-', 'wall', 'Ġthings', '.', 'Ġ', 'Ċ', 'The', 'Ġprice', 'Ġper', 'Ġshare', 'Ġis', 'Ġdropping', 'Ġby', 'Ġ75', 'Ġpercent', 'Ġto', 'Ġ3', '.', '30', 'ĠEuros', '.', 'Ċ', 'Let', \"'s\", 'Ġdon', \"'t\", 'Ġsay', 'Ġ\"', 'that', 'Ġword', '\"', 'Ġany', 'Ġmore', '.']\n",
      "['å°', '½', 'ç', '®', '¡', 'è', 'Ĥ', 'ĸ', 'æ', 'ģ', '©', 'ç', '¼', 'º', 'ä¹', 'ı', 'è', 'ĩ', 'ª', 'ä¿', '¡', 'ï', '¼', 'Į', 'æ', '²', 'ī', 'é', '»', 'ĺ', 'å¯', '¡', 'è', '¨', 'Ģ', 'ï', '¼', 'Į', 'ä½', 'Ĩ', 'ä»', 'ĸ', 'æľ', 'ī', 'æĹ', '¶', 'ä¹', 'Ł', 'ä¼', 'ļ', 'å', 'ģ', 'ļ', 'ä¸Ģ', 'äº', 'Ľ', 'åĩ', 'º', 'æł', '¼', 'çļĦ', 'äº', 'ĭ', 'ãĢĤ', 'Ċ', 'æ', '¯', 'ı', 'è', 'Ĥ', '¡', 'ä»', '·', 'æł', '¼', 'ä¸', 'ĭ', 'è', '·', 'Į', '75', '%', 'ï', '¼', 'Į', 'è', 'ĩ', '³', '3', '.', '30', 'æ', '¬', '§', 'åħ', 'ĥ', 'ãĢĤ', 'Ċ', '\"', 'æĪ', 'ĳ', 'çļĦ', 'çĶ', 'µ', 'è¯', 'Ŀ', 'åı', '·', 'ç', 'ł', 'ģ', '\"', 'æĺ¯', 'ï', '¼', 'ļ', '18', '800', '308', '65']\n"
     ]
    }
   ],
   "source": [
    "tokenizer = AutoTokenizer.from_pretrained('./gpt2')\n",
    "test(tokenizer)"
   ]
  },
  {
   "cell_type": "code",
   "execution_count": 64,
   "id": "82eafe11",
   "metadata": {},
   "outputs": [
    {
     "name": "stdout",
     "output_type": "stream",
     "text": [
      "['[UNK]', 'all', '[UNK]', 'di', '##ff', '##ide', '##nce', 'and', 'q', '##ui', '##et', '##ness', ',', 'he', 'some', '##times', 'di', '##d', 'off', '-', 'the', '-', 'wall', 't', '##hing', '##s', '.', '[UNK]', 'price', 'pe', '##r', 'share', 'is', 'dr', '##op', '##ping', 'by', '75', 'pe', '##rc', '##ent', 'to', '3', '.', '30', '[UNK]', '.', '[UNK]', \"'\", 's', 'don', \"'\", 't', 'say', '\"', 'that', 'word', '\"', 'an', '##y', 'more', '.']\n",
      "['尽', '管', '肖', '恩', '缺', '乏', '自', '信', '，', '沉', '默', '寡', '言', '，', '但', '他', '有', '时', '也', '会', '做', '一', '些', '出', '格', '的', '事', '。', '每', '股', '价', '格', '下', '跌', '75', '%', '，', '至', '3', '.', '30', '欧', '元', '。', '\"', '我', '的', '电', '话', '号', '码', '\"', '是', '：', '1880', '##03', '##08', '##65']\n"
     ]
    }
   ],
   "source": [
    "tokenizer = AutoTokenizer.from_pretrained('./gpt2_chinese')\n",
    "test(tokenizer)"
   ]
  },
  {
   "cell_type": "code",
   "execution_count": 65,
   "id": "3151efd4-99fe-41cd-8140-e3a9032d720b",
   "metadata": {},
   "outputs": [
    {
     "name": "stdout",
     "output_type": "stream",
     "text": [
      "['▁For', '▁all', '▁Shaw', 'n', '▁diff', 'ide', 'nce', '▁and', '▁quiet', 'ness', ',', '▁', 'he', '▁sometimes', '▁did', '▁off', '-', 'the', '-', 'wall', '▁things', '.', '▁The', '▁price', '▁per', '▁share', '▁is', '▁dropping', '▁by', '▁75', '▁percent', '▁to', '▁3.', '30', '▁Euro', 's', '.', '▁Let', \"'\", 's', '▁don', \"'\", 't', '▁say', '▁\"', 'that', '▁word', '\"', '▁any', '▁more', '.']\n",
      "['▁', '尽管肖恩缺乏自信', ',', '沉默寡言', ',', '但他有时也会做一些出格的事。', '▁', '每股价格下跌', '7', '5%', ',', '至', '3.', '30', '欧元。', '▁\"', '我的电话号码', '\"', '是', ':', '18', '800', '30', '86', '5']\n"
     ]
    }
   ],
   "source": [
    "tokenizer = AutoTokenizer.from_pretrained('./t5-base')\n",
    "test(tokenizer)"
   ]
  },
  {
   "cell_type": "code",
   "execution_count": 66,
   "id": "917c8972-c6db-47fd-8704-b4574b941336",
   "metadata": {},
   "outputs": [
    {
     "name": "stdout",
     "output_type": "stream",
     "text": [
      "['▁For', '▁all', '▁Shawn', '▁diff', 'idence', '▁and', '▁quiet', 'ness', ',', '▁he', '▁sometimes', '▁did', '▁off', '-', 'the', '-', 'wall', '▁things', '.', '▁The', '▁price', '▁per', '▁share', '▁is', '▁dropping', '▁by', '▁75', '▁percent', '▁to', '▁3', '.', '30', '▁Euro', 's', '.', '▁Let', \"'\", 's', '▁don', \"'\", 't', '▁say', '▁', '\"', 'that', '▁word', '\"', '▁any', '▁more', '.']\n",
      "['▁', '尽管肖恩缺乏自信', ',', '沉默寡言', ',', '但他有时也会做一些出格的事。', '▁', '每股价格下跌', '7', '5%', ',', '至', '3', '.', '30', '欧元。', '▁', '\"', '我的电话号码', '\"', '是', ':', '18', '800', '30', '86', '5']\n"
     ]
    }
   ],
   "source": [
    "tokenizer = AutoTokenizer.from_pretrained('./xlnet-base-cased')\n",
    "test(tokenizer)"
   ]
  },
  {
   "cell_type": "code",
   "execution_count": 67,
   "id": "c0ad78ad-55ee-4ac3-8074-0ea42271d323",
   "metadata": {},
   "outputs": [
    {
     "name": "stdout",
     "output_type": "stream",
     "text": [
      "['▁For', '▁all', '▁Shaw', 'n', '▁diff', 'iden', 'ce', '▁and', '▁quiet', 'ness', ',', '▁he', '▁sometimes', '▁did', '▁off', '-', 'the', '-', 'wall', '▁things', '.', '▁The', '▁price', '▁per', '▁share', '▁is', '▁drop', 'ping', '▁by', '▁75', '▁percent', '▁to', '▁3.', '30', '▁Euro', 's', '.', '▁Let', \"'\", 's', '▁don', \"'\", 't', '▁say', '▁\"', 'that', '▁word', '\"', '▁any', '▁more', '.']\n",
      "['▁', '尽管', '肖', '恩', '缺乏', '自信', ',', '沉默', '寡', '言', ',', '但他', '有时', '也会', '做', '一些', '出', '格', '的事', '。', '▁', '每', '股', '价格', '下跌', '75%', ',', '至', '3', '.', '30', '欧元', '。', '▁\"', '我的', '电话', '号码', '\"', '是', ':18', '800', '30', '865']\n"
     ]
    }
   ],
   "source": [
    "tokenizer = AutoTokenizer.from_pretrained('./xlm-roberta-base')\n",
    "test(tokenizer)"
   ]
  },
  {
   "cell_type": "code",
   "execution_count": 74,
   "id": "7c56ee44-3629-4de5-8656-c3669063cea8",
   "metadata": {},
   "outputs": [
    {
     "name": "stderr",
     "output_type": "stream",
     "text": [
      "Special tokens have been added in the vocabulary, make sure the associated word embeddings are fine-tuned or trained.\n"
     ]
    },
    {
     "name": "stdout",
     "output_type": "stream",
     "text": [
      "['For', 'Ġall', 'ĠShawn', 'Ġdiff', 'idence', 'Ġand', 'Ġquiet', 'ness', ',', 'Ġhe', 'Ġsometimes', 'Ġdid', 'Ġoff', '-the', '-wall', 'Ġthings', '.', 'ĠĊ', 'The', 'Ġprice', 'Ġper', 'Ġshare', 'Ġis', 'Ġdropping', 'Ġby', 'Ġ', '7', '5', 'Ġpercent', 'Ġto', 'Ġ', '3', '.', '3', '0', 'ĠEuros', '.Ċ', 'Let', \"'s\", 'Ġdon', \"'t\", 'Ġsay', 'Ġ\"', 'that', 'Ġword', '\"', 'Ġany', 'Ġmore', '.']\n",
      "['å°½ç®¡', 'èĤĸ', 'æģ©', 'ç¼ºä¹ı', 'èĩªä¿¡', 'ï¼Į', 'æ²īé»ĺ', 'å¯¡', 'è¨Ģ', 'ï¼Į', 'ä½Ĩä»ĸ', 'æľīæĹ¶', 'ä¹Łä¼ļ', 'åģļä¸ĢäºĽ', 'åĩº', 'æł¼', 'çļĦäºĭ', 'ãĢĤĊ', 'æ¯ıèĤ¡', 'ä»·æł¼', 'ä¸ĭè·Į', '7', '5', '%ï¼Į', 'èĩ³', '3', '.', '3', '0', 'æ¬§åħĥ', 'ãĢĤĊ', '\"', 'æĪĳçļĦ', 'çĶµè¯Ŀ', 'åı·çłģ', '\"', 'æĺ¯', 'ï¼ļ', '1', '8', '8', '0', '0', '3', '0', '8', '6', '5']\n"
     ]
    }
   ],
   "source": [
    "tokenizer = AutoTokenizer.from_pretrained(\"./Qwen1.5-32B\")\n",
    "test(tokenizer)\n"
   ]
  },
  {
   "cell_type": "code",
   "execution_count": 69,
   "id": "0543b4e4-f4e5-485c-8d67-1c415540abd1",
   "metadata": {},
   "outputs": [
    {
     "name": "stderr",
     "output_type": "stream",
     "text": [
      "Special tokens have been added in the vocabulary, make sure the associated word embeddings are fine-tuned or trained.\n"
     ]
    },
    {
     "name": "stdout",
     "output_type": "stream",
     "text": [
      "['For', 'Ġall', 'ĠShawn', 'Ġdiff', 'idence', 'Ġand', 'Ġquiet', 'ness', ',', 'Ġhe', 'Ġsometimes', 'Ġdid', 'Ġoff', '-the', '-wall', 'Ġthings', '.', 'ĠĊ', 'The', 'Ġprice', 'Ġper', 'Ġshare', 'Ġis', 'Ġdropping', 'Ġby', 'Ġ', '75', 'Ġpercent', 'Ġto', 'Ġ', '3', '.', '30', 'ĠEuros', '.Ċ', 'Let', \"'s\", 'Ġdon', \"'t\", 'Ġsay', 'Ġ\"', 'that', 'Ġword', '\"', 'Ġany', 'Ġmore', '.']\n",
      "['å°½ç®¡', 'èĤĸ', 'æģ©', 'ç¼º', 'ä¹', 'ı', 'èĩª', 'ä¿¡', 'ï¼Į', 'æ²ī', 'é»ĺ', 'å¯', '¡', 'è¨Ģ', 'ï¼Įä½Ĩ', 'ä»ĸ', 'æľī', 'æĹ¶', 'ä¹Ł', 'ä¼ļ', 'åģļ', 'ä¸ĢäºĽ', 'åĩº', 'æł¼', 'çļĦäºĭ', 'ãĢĤĊ', 'æ¯ı', 'èĤ¡', 'ä»·æł¼', 'ä¸ĭ', 'è·Į', '75', '%ï¼Į', 'èĩ³', '3', '.', '30', 'æ¬§', 'åħĥ', 'ãĢĤĊ', '\"', 'æĪĳçļĦ', 'çĶµè¯Ŀ', 'åı·', 'çłģ', '\"', 'æĺ¯', 'ï¼ļ', '188', '003', '086', '5']\n"
     ]
    }
   ],
   "source": [
    "tokenizer = AutoTokenizer.from_pretrained(\"Llama3-8B-Chinese-Chat\")\n",
    "test(tokenizer)"
   ]
  },
  {
   "cell_type": "code",
   "execution_count": 75,
   "id": "b8d3f65e-4a73-4a24-a138-d98b8cb30f71",
   "metadata": {},
   "outputs": [
    {
     "name": "stdout",
     "output_type": "stream",
     "text": [
      "['▁For', '▁all', '▁Shaw', 'n', '▁diff', 'iden', 'ce', '▁and', '▁quiet', 'ness', ',', '▁he', '▁sometimes', '▁did', '▁off', '-', 'the', '-', 'wall', '▁things', '.', '▁The', '▁price', '▁per', '▁share', '▁is', '▁drop', 'ping', '▁by', '▁75', '▁percent', '▁to', '▁3.', '30', '▁Euro', 's', '.', '▁Let', \"'\", 's', '▁don', \"'\", 't', '▁say', '▁\"', 'that', '▁word', '\"', '▁any', '▁more', '.']\n",
      "['▁', '尽管', '肖', '恩', '缺乏', '自信', ',', '沉默', '寡', '言', ',', '但他', '有时', '也会', '做', '一些', '出', '格', '的事', '。', '▁', '每', '股', '价格', '下跌', '75%', ',', '至', '3', '.', '30', '欧元', '。', '▁\"', '我的', '电话', '号码', '\"', '是', ':18', '800', '30', '865']\n"
     ]
    }
   ],
   "source": [
    "tokenizer = AutoTokenizer.from_pretrained(\"./tiny-mbart/\")\n",
    "test(tokenizer)"
   ]
  }
 ],
 "metadata": {
  "kernelspec": {
   "display_name": "Python 3 (ipykernel)",
   "language": "python",
   "name": "python3"
  },
  "language_info": {
   "codemirror_mode": {
    "name": "ipython",
    "version": 3
   },
   "file_extension": ".py",
   "mimetype": "text/x-python",
   "name": "python",
   "nbconvert_exporter": "python",
   "pygments_lexer": "ipython3",
   "version": "3.10.10"
  }
 },
 "nbformat": 4,
 "nbformat_minor": 5
}
