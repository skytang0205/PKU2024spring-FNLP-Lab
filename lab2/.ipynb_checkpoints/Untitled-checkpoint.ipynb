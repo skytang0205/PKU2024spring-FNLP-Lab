{
 "cells": [
  {
   "cell_type": "code",
   "execution_count": 16,
   "id": "3b9fdcec-a07f-453f-bbdd-426de9a6e990",
   "metadata": {},
   "outputs": [
    {
     "name": "stdout",
     "output_type": "stream",
     "text": [
      "['for', 'all', 'shawn', 'di', '##ffi', '##den', '##ce', 'and', 'quiet', '##ness', ',', 'he', 'sometimes', 'did', 'off', '-', 'the', '-', 'wall', 'things', '.', 'the', 'price', 'per', 'share', 'is', 'dropping', 'by', '75', 'percent', 'to', '3', '.', '30', 'euros', '.']\n",
      "['[UNK]', '[UNK]', '[UNK]', '[UNK]', '[UNK]', '[UNK]', '[UNK]', '信', '，', '[UNK]', '[UNK]', '[UNK]', '[UNK]', '，', '[UNK]', '[UNK]', '有', '[UNK]', '也', '会', '[UNK]', '一', '[UNK]', '出', '[UNK]', '的', '事', '。', '[UNK]', '[UNK]', '[UNK]', '[UNK]', '下', '[UNK]', '75', '%', '，', '[UNK]', '3', '.', '30', '[UNK]', '元', '。', '我', '的', '[UNK]', '[UNK]', '[UNK]', '：', '1880', '##0', '##30', '##86', '##5']\n",
      "['[UNK]', 'all', '[UNK]', 'di', '##ff', '##ide', '##nce', 'and', 'q', '##ui', '##et', '##ness', ',', 'he', 'some', '##times', 'di', '##d', 'off', '-', 'the', '-', 'wall', 't', '##hing', '##s', '.', '[UNK]', 'price', 'pe', '##r', 'share', 'is', 'dr', '##op', '##ping', 'by', '75', 'pe', '##rc', '##ent', 'to', '3', '.', '30', '[UNK]', '.']\n",
      "['尽', '管', '肖', '恩', '缺', '乏', '自', '信', '，', '沉', '默', '寡', '言', '，', '但', '他', '有', '时', '也', '会', '做', '一', '些', '出', '格', '的', '事', '。', '每', '股', '价', '格', '下', '跌', '75', '%', '，', '至', '3', '.', '30', '欧', '元', '。', '我', '的', '电', '话', '是', '：', '1880', '##03', '##08', '##65']\n"
     ]
    }
   ],
   "source": [
    "with open('test_text.txt', 'r') as file:\n",
    "    # 读取文件内容\n",
    "    data = file.read()\n",
    "    \n",
    "with open('test_text_chinese.txt', 'r',encoding=\"utf-8\") as file:\n",
    "    # 读取文件内容\n",
    "    data_chinese = file.read()\n",
    "#print(data_chinese)\n",
    "def test(tokenizer):\n",
    "    print(tokenizer.tokenize(data))\n",
    "    print(tokenizer.tokenize(data_chinese))\n",
    "\n",
    "import os\n",
    "os.environ[\"HF_ENDPOINT\"] = \"https://hf-mirror.com\"\n",
    "    \n",
    "import torch\n",
    "from transformers import AutoTokenizer\n",
    "\n",
    "tokenizer = AutoTokenizer.from_pretrained(\"./bert-base-uncased\")\n",
    "test(tokenizer)\n",
    "\n",
    "\n",
    "tokenizer = AutoTokenizer.from_pretrained('./bert-base-chinese')\n",
    "test(tokenizer)\n"
   ]
  },
  {
   "cell_type": "code",
   "execution_count": 15,
   "id": "cbab92d5-b9fa-4234-bf52-4ad0739166d0",
   "metadata": {},
   "outputs": [
    {
     "name": "stdout",
     "output_type": "stream",
     "text": [
      "['for', 'all', 'shawn', 'di', '##ffi', '##den', '##ce', 'and', 'quiet', '##ness', ',', 'he', 'sometimes', 'did', 'off', '-', 'the', '-', 'wall', 'things', '.', 'the', 'price', 'per', 'share', 'is', 'dropping', 'by', '75', 'percent', 'to', '3', '.', '30', 'euros', '.']\n",
      "['[UNK]', '[UNK]', '[UNK]', '[UNK]', '[UNK]', '[UNK]', '[UNK]', '信', '，', '[UNK]', '[UNK]', '[UNK]', '[UNK]', '，', '[UNK]', '[UNK]', '有', '[UNK]', '也', '会', '[UNK]', '一', '[UNK]', '出', '[UNK]', '的', '事', '。', '[UNK]', '[UNK]', '[UNK]', '[UNK]', '下', '[UNK]', '75', '%', '，', '[UNK]', '3', '.', '30', '[UNK]', '元', '。', '我', '的', '[UNK]', '[UNK]', '[UNK]', '：', '1880', '##0', '##30', '##86', '##5']\n"
     ]
    }
   ],
   "source": [
    "from transformers import GPT2LMHeadModel, GPT2Tokenizer\n",
    "test(tokenizer)\n"
   ]
  },
  {
   "cell_type": "code",
   "execution_count": null,
   "id": "3151efd4-99fe-41cd-8140-e3a9032d720b",
   "metadata": {},
   "outputs": [],
   "source": []
  },
  {
   "cell_type": "code",
   "execution_count": null,
   "id": "917c8972-c6db-47fd-8704-b4574b941336",
   "metadata": {},
   "outputs": [],
   "source": []
  }
 ],
 "metadata": {
  "kernelspec": {
   "display_name": "Python 3 (ipykernel)",
   "language": "python",
   "name": "python3"
  },
  "language_info": {
   "codemirror_mode": {
    "name": "ipython",
    "version": 3
   },
   "file_extension": ".py",
   "mimetype": "text/x-python",
   "name": "python",
   "nbconvert_exporter": "python",
   "pygments_lexer": "ipython3",
   "version": "3.10.10"
  }
 },
 "nbformat": 4,
 "nbformat_minor": 5
}
